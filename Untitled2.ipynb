{
  "nbformat": 4,
  "nbformat_minor": 0,
  "metadata": {
    "colab": {
      "name": "Untitled2.ipynb",
      "provenance": []
    },
    "kernelspec": {
      "name": "python3",
      "display_name": "Python 3"
    },
    "language_info": {
      "name": "python"
    }
  },
  "cells": [
    {
      "cell_type": "markdown",
      "source": [
        "\n",
        "$x^2$\n",
        "\n",
        "*hghhgh*\n"
      ],
      "metadata": {
        "id": "m7lILpYwdWFB"
      }
    },
    {
      "cell_type": "code",
      "execution_count": 1,
      "metadata": {
        "id": "iSvCoLB5dMfI"
      },
      "outputs": [],
      "source": [
        "a=5"
      ]
    },
    {
      "cell_type": "code",
      "source": [
        ""
      ],
      "metadata": {
        "id": "Cc8bqrU4gpVt"
      },
      "execution_count": null,
      "outputs": []
    },
    {
      "cell_type": "markdown",
      "source": [
        "$x^2$\n",
        "\n",
        "$$abc,                                     3 \\leqslant 4$$\n",
        "\n",
        "$$\\prod_{i=1}^{100}$$"
      ],
      "metadata": {
        "id": "4p0svfUpgp8L"
      }
    },
    {
      "cell_type": "markdown",
      "source": [
        "$$y_i = \\beta_{0} + \\beta_{1} x_{i1} + \\cdots + \\beta_{p} x_{ip} + \\varepsilon_i\n",
        " = \\mathbf{x}^\\mathsf{T}_i\\boldsymbol\\beta + \\varepsilon_i,\n",
        " \\qquad i = 1, \\ldots, n,$$"
      ],
      "metadata": {
        "id": "X8YzB67sj9OV"
      }
    },
    {
      "cell_type": "markdown",
      "source": [
        "\\begin{Bmatrix}\n",
        "1 & 2 & 3\\\\\n",
        "a & b & c\n",
        "\\end{Bmatrix}"
      ],
      "metadata": {
        "id": "inCU338Iox8j"
      }
    },
    {
      "cell_type": "markdown",
      "source": [
        "\\begin{pmatrix}\n",
        "65 & 65 & 65 &4  \\\\\n",
        "56 & 65 &  654& 54 \\\\\n",
        "56 & 43 & 65 &65  \\\\\n",
        "434 & 43 & 43 &  43\\\\\n",
        "34 & -45 & 43 & 344 \\\\\n",
        "43 & 43 & 43 & 43\n",
        "\\end{pmatrix}"
      ],
      "metadata": {
        "id": "SjkbySHGpOad"
      }
    }
  ]
}